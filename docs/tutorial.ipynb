{
  "nbformat": 4,
  "nbformat_minor": 0,
  "metadata": {
    "colab": {
      "provenance": []
    },
    "kernelspec": {
      "name": "python3",
      "display_name": "Python 3"
    },
    "language_info": {
      "name": "python"
    }
  },
  "cells": [
    {
      "cell_type": "markdown",
      "source": [
        "MArray is a package for extending your favorite [Python Array API Standard](https://data-apis.org/array-api/latest/index.html) compatible library with mask capabilities. Motivation for masked arrays can be found at [\"What is a masked array?\"](https://numpy.org/devdocs/reference/maskedarray.generic.html#what-is-a-masked-array).\n",
        "\n",
        "MArray is easy to install with `pip`, and it has no required dependencies."
      ],
      "metadata": {
        "id": "_mrLVM5iNzlK"
      }
    },
    {
      "cell_type": "code",
      "execution_count": 1,
      "metadata": {
        "colab": {
          "base_uri": "https://localhost:8080/"
        },
        "id": "df-5AkJlNrMv",
        "outputId": "832f0c95-b3c5-4679-ade8-466126f590bc"
      },
      "outputs": [
        {
          "output_type": "stream",
          "name": "stdout",
          "text": [
            "Requirement already satisfied: marray in /usr/local/lib/python3.10/dist-packages (0.0.5)\n"
          ]
        }
      ],
      "source": [
        "!pip install marray"
      ]
    },
    {
      "cell_type": "markdown",
      "source": [
        "The rest of the tutorial will assume that we want to add masks to NumPy arrays. Note that this is different from using NumPy's built-in masked arrays from the `numpy.ma` namespace, because the `numpy.ma` is not compatible with the array API standard. Likewise, even the base NumPy namespace is no Array API compatible in version of NumPy prior to 2.0, so we will install a recent version of NumPy to work with."
      ],
      "metadata": {
        "id": "XhAegVfKOln6"
      }
    },
    {
      "cell_type": "code",
      "source": [
        "!pip install --upgrade numpy"
      ],
      "metadata": {
        "colab": {
          "base_uri": "https://localhost:8080/"
        },
        "id": "WqplnZOgQmno",
        "outputId": "42f41d25-9c9f-4d69-c7ca-c19d5cd9d20c"
      },
      "execution_count": 2,
      "outputs": [
        {
          "output_type": "stream",
          "name": "stdout",
          "text": [
            "Requirement already satisfied: numpy in /usr/local/lib/python3.10/dist-packages (2.2.0)\n"
          ]
        }
      ]
    },
    {
      "cell_type": "markdown",
      "source": [
        "To create a version of the NumPy namespace with mask support, use `marray`'s only public attribute: `get_namespace`."
      ],
      "metadata": {
        "id": "qK_62ObGQncu"
      }
    },
    {
      "cell_type": "code",
      "source": [
        "import numpy as xp\n",
        "import marray\n",
        "mxp = marray.get_namespace(xp)"
      ],
      "metadata": {
        "id": "Cjc6HngEOdyk"
      },
      "execution_count": 3,
      "outputs": []
    },
    {
      "cell_type": "markdown",
      "source": [
        "`mxp` exposes all the features of NumPy that are specified in the Array API standard, but adds masks support to them. For example:"
      ],
      "metadata": {
        "id": "Yryoso2GRXv4"
      }
    },
    {
      "cell_type": "code",
      "source": [
        "x = mxp.arange(3)\n",
        "x"
      ],
      "metadata": {
        "colab": {
          "base_uri": "https://localhost:8080/"
        },
        "id": "G2Iuxe_vQhFK",
        "outputId": "6253e422-2387-4f71-f5f8-c3c4fddd09f5"
      },
      "execution_count": 4,
      "outputs": [
        {
          "output_type": "execute_result",
          "data": {
            "text/plain": [
              "MArray(array([0, 1, 2]), array([False, False, False]))"
            ]
          },
          "metadata": {},
          "execution_count": 4
        }
      ]
    },
    {
      "cell_type": "markdown",
      "source": [
        "Just as `xp.arange(3)` would have created a regular NumPy array with elements [0, 1, 2], `mxp.arange(3)` creates an `MArray` object with these elements. These are accessible via the `data` attribute."
      ],
      "metadata": {
        "id": "1lSWHD14SPtZ"
      }
    },
    {
      "cell_type": "code",
      "source": [
        "x.data"
      ],
      "metadata": {
        "colab": {
          "base_uri": "https://localhost:8080/"
        },
        "id": "s0rkwCOQR4Q6",
        "outputId": "c265d43d-305e-4123-f72e-1426859c9030"
      },
      "execution_count": 5,
      "outputs": [
        {
          "output_type": "execute_result",
          "data": {
            "text/plain": [
              "array([0, 1, 2])"
            ]
          },
          "metadata": {},
          "execution_count": 5
        }
      ]
    },
    {
      "cell_type": "markdown",
      "source": [
        "The difference is that the `MArray` also has a mask, available via the `mask` attribute."
      ],
      "metadata": {
        "id": "2jKANlowSr_c"
      }
    },
    {
      "cell_type": "code",
      "source": [
        "x.mask"
      ],
      "metadata": {
        "colab": {
          "base_uri": "https://localhost:8080/"
        },
        "id": "v9dGW46dSrPC",
        "outputId": "a62b1d2f-a74e-4c2d-b760-d7a7f07b8580"
      },
      "execution_count": 6,
      "outputs": [
        {
          "output_type": "execute_result",
          "data": {
            "text/plain": [
              "array([False, False, False])"
            ]
          },
          "metadata": {},
          "execution_count": 6
        }
      ]
    },
    {
      "cell_type": "markdown",
      "source": [
        "Because all of the elements of the mask are `False`, this `MArray` will behave just like a regular NumPy array. That's boring. Let's create an array with a nontrivial mask. To do that, we'll use `mxp.asarray`."
      ],
      "metadata": {
        "id": "aUmir_QPSx-G"
      }
    },
    {
      "cell_type": "code",
      "source": [
        "x = mxp.asarray([1, 2, 3, 4], mask=[False, True, False, True])\n",
        "x"
      ],
      "metadata": {
        "colab": {
          "base_uri": "https://localhost:8080/"
        },
        "id": "N4APsIAhSw2Z",
        "outputId": "7974a8f3-6630-4590-cdbd-2a855afed45c"
      },
      "execution_count": 7,
      "outputs": [
        {
          "output_type": "execute_result",
          "data": {
            "text/plain": [
              "MArray(array([1, 2, 3, 4]), array([False,  True, False,  True]))"
            ]
          },
          "metadata": {},
          "execution_count": 7
        }
      ]
    },
    {
      "cell_type": "markdown",
      "source": [
        "`marray` is intended to be a very light wrapper of the underlying array library. Just as it has only one public function (`get_namespace`), it makes only one modification to the signature of the wrapped library, which we've used above: it adds a `mask` keyword-only argument to the `asarray` function.\n",
        "\n",
        "Let's see how the mask changes the behavior of common functions.\n",
        "\n",
        "#### Statistical Functions\n",
        "For reducing functions, masked elements are ignored; the result is the same as if the masked elements were not in the array."
      ],
      "metadata": {
        "id": "BBTh_JoMTxzk"
      }
    },
    {
      "cell_type": "code",
      "source": [
        "mxp.max(x)  # 4 was masked"
      ],
      "metadata": {
        "colab": {
          "base_uri": "https://localhost:8080/"
        },
        "id": "4hS53RIJTTHK",
        "outputId": "3cfec7b4-a0b3-4484-e7b1-4d7af61b5dc7"
      },
      "execution_count": 8,
      "outputs": [
        {
          "output_type": "execute_result",
          "data": {
            "text/plain": [
              "MArray(array(3), array(False))"
            ]
          },
          "metadata": {},
          "execution_count": 8
        }
      ]
    },
    {
      "cell_type": "code",
      "source": [
        "mxp.sum(x)  # 1 and 3 were masked"
      ],
      "metadata": {
        "colab": {
          "base_uri": "https://localhost:8080/"
        },
        "id": "cVyWwibmUuUB",
        "outputId": "36c72fb8-f8d5-4940-c72e-e93fef2feaf3"
      },
      "execution_count": 9,
      "outputs": [
        {
          "output_type": "execute_result",
          "data": {
            "text/plain": [
              "MArray(array(4), array(False))"
            ]
          },
          "metadata": {},
          "execution_count": 9
        }
      ]
    },
    {
      "cell_type": "markdown",
      "source": [
        "For the only non-reducing statistical function, `cumulative_sum`, masked elements do not contribute to the cumulative sum."
      ],
      "metadata": {
        "id": "79s_aKtjU6Sn"
      }
    },
    {
      "cell_type": "code",
      "source": [
        "mxp.cumulative_sum(x)"
      ],
      "metadata": {
        "colab": {
          "base_uri": "https://localhost:8080/"
        },
        "id": "aVhcgaocU0SQ",
        "outputId": "d94fac15-b992-4801-842a-0290a0a68940"
      },
      "execution_count": 10,
      "outputs": [
        {
          "output_type": "execute_result",
          "data": {
            "text/plain": [
              "MArray(array([1, 1, 4, 4]), array([False,  True, False,  True]))"
            ]
          },
          "metadata": {},
          "execution_count": 10
        }
      ]
    },
    {
      "cell_type": "markdown",
      "source": [
        "Note that the elements of the original array that were masked remain masked. Because of the limitations of the underlying array library, there will always be elements corresponding with masked elements in `data`, *but their values should be considered meaningless*.\n",
        "\n",
        "#### Utility functions\n",
        "`all` and `any` work like the reducing statistics functions."
      ],
      "metadata": {
        "id": "d7smII8IVTDZ"
      }
    },
    {
      "cell_type": "code",
      "source": [
        "x = mxp.asarray([False, False, False, True], mask=[False, True, False, True])\n",
        "mxp.all(x)"
      ],
      "metadata": {
        "colab": {
          "base_uri": "https://localhost:8080/"
        },
        "id": "wqzDdlG8VQJY",
        "outputId": "05d577ed-c63d-4160-966a-32d9a2357e7e"
      },
      "execution_count": 11,
      "outputs": [
        {
          "output_type": "execute_result",
          "data": {
            "text/plain": [
              "MArray(array(False), array(False))"
            ]
          },
          "metadata": {},
          "execution_count": 11
        }
      ]
    },
    {
      "cell_type": "code",
      "source": [
        "mxp.any(x)"
      ],
      "metadata": {
        "colab": {
          "base_uri": "https://localhost:8080/"
        },
        "id": "6RsGw5FaWOvI",
        "outputId": "d4223af6-a72d-4194-99fc-b5ae2f39e0b4"
      },
      "execution_count": 12,
      "outputs": [
        {
          "output_type": "execute_result",
          "data": {
            "text/plain": [
              "MArray(array(False), array(False))"
            ]
          },
          "metadata": {},
          "execution_count": 12
        }
      ]
    },
    {
      "cell_type": "markdown",
      "source": [
        "Is that last result surprising? Although there was one `True` in `x.data`, it is ignored when computing `any` because it is masked.\n",
        "\n",
        "You may have noticed that the mask of the result has always been `False` in these examples. This is always the case unless *all* elements of the array are masked. In this case, it is required by the reducing nature of the function to return a 0D array for a 1D input, but there is not an universally accepted result for these functions when all elements are masked. (What is the maximum of an empty set?)"
      ],
      "metadata": {
        "id": "PpXqsmpJWkku"
      }
    },
    {
      "cell_type": "code",
      "source": [
        "x = mxp.asarray(x.data, mask=True)\n",
        "mxp.any(x).mask"
      ],
      "metadata": {
        "colab": {
          "base_uri": "https://localhost:8080/"
        },
        "id": "oP83Gw1uWi9l",
        "outputId": "ca22cdea-356b-48d7-9ef6-74a3ab821ffc"
      },
      "execution_count": 13,
      "outputs": [
        {
          "output_type": "execute_result",
          "data": {
            "text/plain": [
              "array(True)"
            ]
          },
          "metadata": {},
          "execution_count": 13
        }
      ]
    },
    {
      "cell_type": "markdown",
      "source": [
        "#### Sorting functions\n",
        "The sorting functions treat masked values as undefined and, by convention, append them to the end of the returned array."
      ],
      "metadata": {
        "id": "oF1TqQxpYO_w"
      }
    },
    {
      "cell_type": "code",
      "source": [
        "data = [8, 3, 4, 1, 9, 9, 5, 5]\n",
        "mask = [0, 0, 1, 0, 1, 1, 0, 0]\n",
        "x = mxp.asarray(data, mask=mask)\n",
        "mxp.sort(x)"
      ],
      "metadata": {
        "colab": {
          "base_uri": "https://localhost:8080/"
        },
        "id": "FY7ATUksWc7v",
        "outputId": "554deaf4-6baa-452f-cef0-669d40ce9857"
      },
      "execution_count": 14,
      "outputs": [
        {
          "output_type": "execute_result",
          "data": {
            "text/plain": [
              "MArray(\n",
              "    array([                  1,                   3,                   5,\n",
              "                         5,                   8, 9223372036854775807,\n",
              "       9223372036854775807, 9223372036854775807]),\n",
              "    array([False, False, False, False, False,  True,  True,  True])\n",
              ")"
            ]
          },
          "metadata": {},
          "execution_count": 14
        }
      ]
    },
    {
      "cell_type": "markdown",
      "source": [
        "Where did those huge numbers come from? We emphasize again: *the `data` corresponding with masked elements should be considered meaningless*; they are just placeholders that allow us to do array operations efficiently."
      ],
      "metadata": {
        "id": "gjaVIKX7ZTph"
      }
    },
    {
      "cell_type": "code",
      "source": [
        "i = mxp.argsort(x)\n",
        "i"
      ],
      "metadata": {
        "colab": {
          "base_uri": "https://localhost:8080/"
        },
        "id": "VWNWt9hQZrEN",
        "outputId": "d95b7ddd-58fd-4ff3-8253-6a716a251cca"
      },
      "execution_count": 15,
      "outputs": [
        {
          "output_type": "execute_result",
          "data": {
            "text/plain": [
              "MArray(\n",
              "    array([3, 1, 6, 7, 0, 2, 4, 5]),\n",
              "    array([False, False, False, False, False, False, False, False])\n",
              ")"
            ]
          },
          "metadata": {},
          "execution_count": 15
        }
      ]
    },
    {
      "cell_type": "markdown",
      "source": [
        "Is it surprising that the mask of the array returned by `argsort` is all False? These are the indices that allow us to transform the original array into the sorted result. The meaning of a masked index is ambiguous, and we can confirm that without a mask, these indices sort the array."
      ],
      "metadata": {
        "id": "fVmJleGcaD9j"
      }
    },
    {
      "cell_type": "code",
      "source": [
        "y = x[i.data]\n",
        "y"
      ],
      "metadata": {
        "colab": {
          "base_uri": "https://localhost:8080/"
        },
        "id": "8nJg4JV6YsvP",
        "outputId": "b1c3d9b8-3ae0-405a-dd44-5cc65be35708"
      },
      "execution_count": 16,
      "outputs": [
        {
          "output_type": "execute_result",
          "data": {
            "text/plain": [
              "MArray(\n",
              "    array([1, 3, 5, 5, 8, 4, 9, 9]),\n",
              "    array([False, False, False, False, False,  True,  True,  True])\n",
              ")"
            ]
          },
          "metadata": {},
          "execution_count": 16
        }
      ]
    },
    {
      "cell_type": "markdown",
      "source": [
        "#### Manipulation functions\n",
        "Manipulation functions perform the same operation on the data and the mask."
      ],
      "metadata": {
        "id": "OwZOS_qFbGEz"
      }
    },
    {
      "cell_type": "code",
      "source": [
        "mxp.flip(y)"
      ],
      "metadata": {
        "colab": {
          "base_uri": "https://localhost:8080/"
        },
        "id": "3mFPzLOLaofm",
        "outputId": "45030d1b-0435-474c-af26-cc2b6a64269d"
      },
      "execution_count": 17,
      "outputs": [
        {
          "output_type": "execute_result",
          "data": {
            "text/plain": [
              "MArray(\n",
              "    array([9, 9, 4, 8, 5, 5, 3, 1]),\n",
              "    array([ True,  True,  True, False, False, False, False, False])\n",
              ")"
            ]
          },
          "metadata": {},
          "execution_count": 17
        }
      ]
    },
    {
      "cell_type": "code",
      "source": [
        "mxp.stack([y, y])"
      ],
      "metadata": {
        "colab": {
          "base_uri": "https://localhost:8080/"
        },
        "id": "LRHAfyP2bTEl",
        "outputId": "925604ef-d335-40cf-9ee1-602124667b47"
      },
      "execution_count": 18,
      "outputs": [
        {
          "output_type": "execute_result",
          "data": {
            "text/plain": [
              "MArray(\n",
              "    array([[1, 3, 5, 5, 8, 4, 9, 9],\n",
              "       [1, 3, 5, 5, 8, 4, 9, 9]]),\n",
              "    array([[False, False, False, False, False,  True,  True,  True],\n",
              "       [False, False, False, False, False,  True,  True,  True]])\n",
              ")"
            ]
          },
          "metadata": {},
          "execution_count": 18
        }
      ]
    },
    {
      "cell_type": "markdown",
      "source": [
        "#### Creation functions\n",
        "Most creation functions create arrays with an all-False mask."
      ],
      "metadata": {
        "id": "FU22DCvdbhaC"
      }
    },
    {
      "cell_type": "code",
      "source": [
        "mxp.eye(3)"
      ],
      "metadata": {
        "colab": {
          "base_uri": "https://localhost:8080/"
        },
        "id": "lp7icAy3bWjl",
        "outputId": "ae97889c-0121-4867-ec16-0d43788855e0"
      },
      "execution_count": 19,
      "outputs": [
        {
          "output_type": "execute_result",
          "data": {
            "text/plain": [
              "MArray(\n",
              "    array([[1., 0., 0.],\n",
              "       [0., 1., 0.],\n",
              "       [0., 0., 1.]]),\n",
              "    array([[False, False, False],\n",
              "       [False, False, False],\n",
              "       [False, False, False]])\n",
              ")"
            ]
          },
          "metadata": {},
          "execution_count": 19
        }
      ]
    },
    {
      "cell_type": "markdown",
      "source": [
        "Exceptions include the `_like` functions, which the mask of the array argument."
      ],
      "metadata": {
        "id": "FA1_TtfLbs7J"
      }
    },
    {
      "cell_type": "code",
      "source": [
        "mxp.zeros_like(y)"
      ],
      "metadata": {
        "colab": {
          "base_uri": "https://localhost:8080/"
        },
        "id": "Ufx9V5zxbret",
        "outputId": "281a7322-1f65-40ec-ac19-8ee11c0acbaf"
      },
      "execution_count": 20,
      "outputs": [
        {
          "output_type": "execute_result",
          "data": {
            "text/plain": [
              "MArray(\n",
              "    array([0, 0, 0, 0, 0, 0, 0, 0]),\n",
              "    array([False, False, False, False, False,  True,  True,  True])\n",
              ")"
            ]
          },
          "metadata": {},
          "execution_count": 20
        }
      ]
    },
    {
      "cell_type": "markdown",
      "source": [
        "`tril` and `triu` also preserve the mask of the indicated triangular portion."
      ],
      "metadata": {
        "id": "tYopOLRRgOvZ"
      }
    },
    {
      "cell_type": "code",
      "source": [
        "data = xp.ones((3, 3))\n",
        "mask = xp.zeros_like(data)\n",
        "mask[0, -1] = 1\n",
        "mask[-1, 0] = 1\n",
        "A = mxp.asarray(data, mask=mask)\n",
        "A"
      ],
      "metadata": {
        "colab": {
          "base_uri": "https://localhost:8080/"
        },
        "id": "ClidkVXhgL3e",
        "outputId": "2dcd0d39-456d-45b3-fa4b-917a8b3021b2"
      },
      "execution_count": 21,
      "outputs": [
        {
          "output_type": "execute_result",
          "data": {
            "text/plain": [
              "MArray(\n",
              "    array([[1., 1., 1.],\n",
              "       [1., 1., 1.],\n",
              "       [1., 1., 1.]]),\n",
              "    array([[False, False,  True],\n",
              "       [False, False, False],\n",
              "       [ True, False, False]])\n",
              ")"
            ]
          },
          "metadata": {},
          "execution_count": 21
        }
      ]
    },
    {
      "cell_type": "code",
      "source": [
        "mxp.tril(A)"
      ],
      "metadata": {
        "colab": {
          "base_uri": "https://localhost:8080/"
        },
        "id": "ShOtQd0wgjaU",
        "outputId": "454d35e6-f9d5-40af-8fb2-bdf3fbf1315c"
      },
      "execution_count": 22,
      "outputs": [
        {
          "output_type": "execute_result",
          "data": {
            "text/plain": [
              "MArray(\n",
              "    array([[1., 0., 0.],\n",
              "       [1., 1., 0.],\n",
              "       [1., 1., 1.]]),\n",
              "    array([[False, False, False],\n",
              "       [False, False, False],\n",
              "       [ True, False, False]])\n",
              ")"
            ]
          },
          "metadata": {},
          "execution_count": 22
        }
      ]
    },
    {
      "cell_type": "markdown",
      "source": [
        "#### Searching functions\n",
        "Similarly to the statistics functions, masked elements are treated as if they did not exist."
      ],
      "metadata": {
        "id": "wfqFAPFOcJCX"
      }
    },
    {
      "cell_type": "code",
      "source": [
        "x[-1] = 0\n",
        "x  # let's remember what `x` looks like"
      ],
      "metadata": {
        "colab": {
          "base_uri": "https://localhost:8080/"
        },
        "id": "agLVvpjAbzU1",
        "outputId": "f98f986f-a339-48ee-c86a-f634a8bdb4fc"
      },
      "execution_count": 23,
      "outputs": [
        {
          "output_type": "execute_result",
          "data": {
            "text/plain": [
              "MArray(\n",
              "    array([8, 3, 4, 1, 9, 9, 5, 0]),\n",
              "    array([False, False,  True, False,  True,  True, False, False])\n",
              ")"
            ]
          },
          "metadata": {},
          "execution_count": 23
        }
      ]
    },
    {
      "cell_type": "code",
      "source": [
        "mxp.argmax(x)  # 9 is masked, so 8 (at index 0) is the largest element"
      ],
      "metadata": {
        "colab": {
          "base_uri": "https://localhost:8080/"
        },
        "id": "W5JBs-aRcSzl",
        "outputId": "b9e4c67e-cd40-49c3-ff83-a59d53fd297b"
      },
      "execution_count": 24,
      "outputs": [
        {
          "output_type": "execute_result",
          "data": {
            "text/plain": [
              "MArray(array(0), array(False))"
            ]
          },
          "metadata": {},
          "execution_count": 24
        }
      ]
    },
    {
      "cell_type": "code",
      "source": [
        "mxp.nonzero(x)  # Only these elements are nonzero and not masked"
      ],
      "metadata": {
        "colab": {
          "base_uri": "https://localhost:8080/"
        },
        "id": "kMnFq-YaccI0",
        "outputId": "29c9cc6b-7d1a-4bb6-cca5-f6e6bd521e9e"
      },
      "execution_count": 25,
      "outputs": [
        {
          "output_type": "execute_result",
          "data": {
            "text/plain": [
              "(MArray(array([0, 1, 3, 6]), array([False, False, False, False])),)"
            ]
          },
          "metadata": {},
          "execution_count": 25
        }
      ]
    },
    {
      "cell_type": "markdown",
      "source": [
        "#### Elementwise functions\n",
        "Elementwise functions (and operators) simply perform the requested operation on the `data`.\n",
        "\n",
        "For unary functions, the mask of the result is the mask of the argument."
      ],
      "metadata": {
        "id": "8oMGicYMdFwl"
      }
    },
    {
      "cell_type": "code",
      "source": [
        "x = xp.linspace(0, 2*xp.pi, 5)\n",
        "x = mxp.asarray(x, mask=(x > xp.pi))\n",
        "-x"
      ],
      "metadata": {
        "colab": {
          "base_uri": "https://localhost:8080/"
        },
        "id": "FAxV2UAGcm_E",
        "outputId": "de2009d4-8e47-44c8-f79e-cba0d1644984"
      },
      "execution_count": 26,
      "outputs": [
        {
          "output_type": "execute_result",
          "data": {
            "text/plain": [
              "MArray(\n",
              "    array([-0.        , -1.57079633, -3.14159265, -4.71238898, -6.28318531]),\n",
              "    array([False, False, False,  True,  True])\n",
              ")"
            ]
          },
          "metadata": {},
          "execution_count": 26
        }
      ]
    },
    {
      "cell_type": "code",
      "source": [
        "mxp.sin(x)"
      ],
      "metadata": {
        "colab": {
          "base_uri": "https://localhost:8080/"
        },
        "id": "SXqYlixJews2",
        "outputId": "0793f635-8a76-4fae-bf48-f0d394390e24"
      },
      "execution_count": 27,
      "outputs": [
        {
          "output_type": "execute_result",
          "data": {
            "text/plain": [
              "MArray(\n",
              "    array([ 0.0000000e+00,  1.0000000e+00,  1.2246468e-16, -1.0000000e+00,\n",
              "       -2.4492936e-16]),\n",
              "    array([False, False, False,  True,  True])\n",
              ")"
            ]
          },
          "metadata": {},
          "execution_count": 27
        }
      ]
    },
    {
      "cell_type": "markdown",
      "source": [
        "For binary functions and operators, the mask of the result is the result of the OR operation on the masks of the arguments."
      ],
      "metadata": {
        "id": "rvqPL2_pepIc"
      }
    },
    {
      "cell_type": "code",
      "source": [
        "x = mxp.asarray([1, 2, 3, 4], mask=[1, 0, 1, 0])\n",
        "y = mxp.asarray([5, 6, 7, 8], mask=[1, 1, 0, 0])\n",
        "x + y"
      ],
      "metadata": {
        "colab": {
          "base_uri": "https://localhost:8080/"
        },
        "id": "dsD06TGkduIs",
        "outputId": "81853cef-a8d7-4375-9c60-95ca85818c5c"
      },
      "execution_count": 28,
      "outputs": [
        {
          "output_type": "execute_result",
          "data": {
            "text/plain": [
              "MArray(array([ 6,  8, 10, 12]), array([ True,  True,  True, False]))"
            ]
          },
          "metadata": {},
          "execution_count": 28
        }
      ]
    },
    {
      "cell_type": "code",
      "source": [
        "mxp.pow(y, x)"
      ],
      "metadata": {
        "colab": {
          "base_uri": "https://localhost:8080/"
        },
        "id": "GRK2Qh1bdua0",
        "outputId": "beb8f3ec-0e0d-41ef-d1fd-19ab81e12476"
      },
      "execution_count": 29,
      "outputs": [
        {
          "output_type": "execute_result",
          "data": {
            "text/plain": [
              "MArray(array([   5,   36,  343, 4096]), array([ True,  True,  True, False]))"
            ]
          },
          "metadata": {},
          "execution_count": 29
        }
      ]
    },
    {
      "cell_type": "markdown",
      "source": [
        "Note that `MArray` *does not* follow the convention of `np.ma` that masks non-finite elements produced during calculations."
      ],
      "metadata": {
        "id": "oGWz8BYShPEt"
      }
    },
    {
      "cell_type": "code",
      "source": [
        "import numpy\n",
        "x = numpy.ma.masked_array(0, mask=False)\n",
        "with numpy.errstate(divide='ignore', invalid='ignore'):\n",
        "    y = [1, 0] / x\n",
        "y"
      ],
      "metadata": {
        "colab": {
          "base_uri": "https://localhost:8080/"
        },
        "id": "LOe6RyxKhdCz",
        "outputId": "2040a7ba-330f-44de-c8dc-a16fa557cbc8"
      },
      "execution_count": 30,
      "outputs": [
        {
          "output_type": "execute_result",
          "data": {
            "text/plain": [
              "masked_array(data=[--, --],\n",
              "             mask=[ True,  True],\n",
              "       fill_value=1e+20,\n",
              "            dtype=float64)"
            ]
          },
          "metadata": {},
          "execution_count": 30
        }
      ]
    },
    {
      "cell_type": "code",
      "source": [
        "x = mxp.asarray(0, mask=False)\n",
        "with numpy.errstate(divide='ignore', invalid='ignore'):\n",
        "    y = [1, 0] / x\n",
        "y"
      ],
      "metadata": {
        "colab": {
          "base_uri": "https://localhost:8080/"
        },
        "id": "3DmTXbmEhuwT",
        "outputId": "faa90d04-ac89-499f-9832-b68e551d38d8"
      },
      "execution_count": 31,
      "outputs": [
        {
          "output_type": "execute_result",
          "data": {
            "text/plain": [
              "MArray(array([inf, nan]), array([False, False]))"
            ]
          },
          "metadata": {},
          "execution_count": 31
        }
      ]
    },
    {
      "cell_type": "markdown",
      "source": [
        "This is because masked elements typically represent *missing* data, and the results of these operations are not missing. If this does not suit your needs, mask out data according to your requirements after performing the operation."
      ],
      "metadata": {
        "id": "kMCxGmnSh1CC"
      }
    },
    {
      "cell_type": "code",
      "source": [
        "x = mxp.asarray(0, mask=False)\n",
        "with numpy.errstate(divide='ignore', invalid='ignore'):\n",
        "    y = [1, 0] / x\n",
        "mxp.asarray(y.data, mask=xp.isnan(y.data))"
      ],
      "metadata": {
        "colab": {
          "base_uri": "https://localhost:8080/"
        },
        "id": "v-xhjS5xitw_",
        "outputId": "26ed8824-0714-474e-b9fb-9ad20e726e80"
      },
      "execution_count": 32,
      "outputs": [
        {
          "output_type": "execute_result",
          "data": {
            "text/plain": [
              "MArray(array([inf, nan]), array([False,  True]))"
            ]
          },
          "metadata": {},
          "execution_count": 32
        }
      ]
    },
    {
      "cell_type": "markdown",
      "source": [
        "#### Linear Algebra Functions\n",
        "As usual, linear algebra functions and operators treat masked elements as though they don't exist."
      ],
      "metadata": {
        "id": "USf2fmg5fbWh"
      }
    },
    {
      "cell_type": "code",
      "source": [
        "x = mxp.asarray([1, 2, 3, 4], mask=[1, 0, 1, 0])\n",
        "y = mxp.asarray([5, 6, 7, 8], mask=[1, 1, 0, 0])\n",
        "x @ y  # the last elements of the arrays, 4 and 8, are the only non-masked elements"
      ],
      "metadata": {
        "colab": {
          "base_uri": "https://localhost:8080/"
        },
        "id": "rx2jLrgYfQ87",
        "outputId": "a815fffb-0282-4d4b-f430-17b1e4cfcaeb"
      },
      "execution_count": 33,
      "outputs": [
        {
          "output_type": "execute_result",
          "data": {
            "text/plain": [
              "MArray(array(32), array(False))"
            ]
          },
          "metadata": {},
          "execution_count": 33
        }
      ]
    },
    {
      "cell_type": "markdown",
      "source": [
        "The exception is `matrix_transpose`, which transposes the data and the mask."
      ],
      "metadata": {
        "id": "lOpOms8Jf3-D"
      }
    },
    {
      "cell_type": "code",
      "source": [
        "x = mxp.asarray([[1, 2], [3, 4]], mask=[[1, 1], [0, 0]])\n",
        "x"
      ],
      "metadata": {
        "colab": {
          "base_uri": "https://localhost:8080/"
        },
        "id": "Y_22kMucfqTD",
        "outputId": "a6e7eab4-7060-4898-e96f-dc7868756702"
      },
      "execution_count": 34,
      "outputs": [
        {
          "output_type": "execute_result",
          "data": {
            "text/plain": [
              "MArray(\n",
              "    array([[1, 2],\n",
              "       [3, 4]]),\n",
              "    array([[ True,  True],\n",
              "       [False, False]])\n",
              ")"
            ]
          },
          "metadata": {},
          "execution_count": 34
        }
      ]
    },
    {
      "cell_type": "code",
      "source": [
        "mxp.matrix_transpose(x)"
      ],
      "metadata": {
        "colab": {
          "base_uri": "https://localhost:8080/"
        },
        "id": "CuV44oFLfzjr",
        "outputId": "ee798130-8d92-4b4a-b82f-3040360f3745"
      },
      "execution_count": 35,
      "outputs": [
        {
          "output_type": "execute_result",
          "data": {
            "text/plain": [
              "MArray(\n",
              "    array([[1, 3],\n",
              "       [2, 4]]),\n",
              "    array([[ True, False],\n",
              "       [ True, False]])\n",
              ")"
            ]
          },
          "metadata": {},
          "execution_count": 35
        }
      ]
    },
    {
      "cell_type": "markdown",
      "source": [
        "#### Conclusion\n",
        "While this tutorial is not exhaustive, we hope it is sufficient to allow you to predict the results of operations with `MArray`s and use them to suit your needs. If you'd like to see this tutorial extended in a particular way, please [open an issue](https://github.com/mdhaber/marray/issues)!"
      ],
      "metadata": {
        "id": "i4pULKHVhCC_"
      }
    }
  ]
}